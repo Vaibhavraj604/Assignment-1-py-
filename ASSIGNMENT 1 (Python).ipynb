{
 "cells": [
  {
   "cell_type": "code",
   "execution_count": 2,
   "id": "2ff9271d",
   "metadata": {},
   "outputs": [],
   "source": [
    "# (1)create ond variable containing following type of data \n",
    "1. string\n",
    "2. list\n",
    "3. float\n",
    "4. tuple"
   ]
  },
  {
   "cell_type": "code",
   "execution_count": 8,
   "id": "2c964a4b",
   "metadata": {},
   "outputs": [],
   "source": [
    "x = [10.5 , \"vaibhav\"]"
   ]
  },
  {
   "cell_type": "code",
   "execution_count": 9,
   "id": "502e2e39",
   "metadata": {},
   "outputs": [
    {
     "data": {
      "text/plain": [
       "list"
      ]
     },
     "execution_count": 9,
     "metadata": {},
     "output_type": "execute_result"
    }
   ],
   "source": [
    "type(x)"
   ]
  },
  {
   "cell_type": "code",
   "execution_count": null,
   "id": "6ae66439",
   "metadata": {},
   "outputs": [],
   "source": []
  },
  {
   "cell_type": "code",
   "execution_count": 35,
   "id": "707a61f9",
   "metadata": {},
   "outputs": [
    {
     "ename": "SyntaxError",
     "evalue": "invalid character '‘' (U+2018) (1905727620.py, line 2)",
     "output_type": "error",
     "traceback": [
      "\u001b[1;36m  Cell \u001b[1;32mIn[35], line 2\u001b[1;36m\u001b[0m\n\u001b[1;33m    (i) var1 = ‘ ‘\u001b[0m\n\u001b[1;37m               ^\u001b[0m\n\u001b[1;31mSyntaxError\u001b[0m\u001b[1;31m:\u001b[0m invalid character '‘' (U+2018)\n"
     ]
    }
   ],
   "source": [
    "# Q2. Given are some following variables containing data:\n",
    "(i) var1 = ‘ ‘\n",
    "(ii) var2 = ‘[ DS , ML , Python]’\n",
    "(iii) var3 = [ ‘DS’ , ’ML’ , ‘Python’ ]\n",
    "(iv) var4 = 1\n",
    "\n",
    "What will be the data type of the above given variable."
   ]
  },
  {
   "cell_type": "code",
   "execution_count": null,
   "id": "8a66f075",
   "metadata": {},
   "outputs": [],
   "source": [
    "(i)  = \n",
    "(ii) = list \n",
    "(iii)=\n",
    "(iv) = int"
   ]
  },
  {
   "cell_type": "code",
   "execution_count": null,
   "id": "8dffe69e",
   "metadata": {},
   "outputs": [],
   "source": []
  },
  {
   "cell_type": "code",
   "execution_count": null,
   "id": "0b6d603e",
   "metadata": {},
   "outputs": [],
   "source": [
    "Q3. Explain the use of the following operators using an example:\n",
    "(i) /\n",
    "(ii) %\n",
    "(iii) //\n",
    "(iv) **"
   ]
  },
  {
   "cell_type": "code",
   "execution_count": 26,
   "id": "fe550f1a",
   "metadata": {},
   "outputs": [
    {
     "data": {
      "text/plain": [
       "1.25"
      ]
     },
     "execution_count": 26,
     "metadata": {},
     "output_type": "execute_result"
    }
   ],
   "source": [
    "#(i) / = division operator\n",
    "# Example\n",
    "5/4\n"
   ]
  },
  {
   "cell_type": "code",
   "execution_count": 27,
   "id": "e07dc65b",
   "metadata": {},
   "outputs": [
    {
     "data": {
      "text/plain": [
       "1"
      ]
     },
     "execution_count": 27,
     "metadata": {},
     "output_type": "execute_result"
    }
   ],
   "source": [
    "#(ii) % = modulus operator\n",
    "# Example \n",
    "5%4\n"
   ]
  },
  {
   "cell_type": "code",
   "execution_count": 28,
   "id": "d34416f5",
   "metadata": {},
   "outputs": [
    {
     "data": {
      "text/plain": [
       "1"
      ]
     },
     "execution_count": 28,
     "metadata": {},
     "output_type": "execute_result"
    }
   ],
   "source": [
    "#(iii) // = divison floor\n",
    "# Example\n",
    "5//4"
   ]
  },
  {
   "cell_type": "code",
   "execution_count": 29,
   "id": "fadc1796",
   "metadata": {},
   "outputs": [
    {
     "data": {
      "text/plain": [
       "25"
      ]
     },
     "execution_count": 29,
     "metadata": {},
     "output_type": "execute_result"
    }
   ],
   "source": [
    "#(iv) ** = cube\n",
    "# Example\n",
    "5**2"
   ]
  },
  {
   "cell_type": "code",
   "execution_count": 19,
   "id": "62cba6b5",
   "metadata": {},
   "outputs": [],
   "source": [
    "Q4. Create a list of length 10 of your choice containing multiple types of data. Using for loop print the\n",
    "element and its data type."
   ]
  },
  {
   "cell_type": "code",
   "execution_count": 34,
   "id": "67cfb6ab",
   "metadata": {},
   "outputs": [
    {
     "name": "stdout",
     "output_type": "stream",
     "text": [
      "<class 'str'>\n",
      "<class 'int'>\n",
      "<class 'str'>\n",
      "<class 'float'>\n",
      "<class 'str'>\n",
      "<class 'complex'>\n",
      "<class 'int'>\n",
      "<class 'float'>\n",
      "<class 'complex'>\n",
      "<class 'str'>\n"
     ]
    }
   ],
   "source": [
    "a = [\"india\",5,'true',25.50,'false',5+6j,25,65.50,65+5j,\"hindustan\"]\n",
    "for i in a:\n",
    "    print(type(i))"
   ]
  },
  {
   "cell_type": "code",
   "execution_count": null,
   "id": "fe601b92",
   "metadata": {},
   "outputs": [],
   "source": [
    "#Q5. Using a while loop, verify if the number A is purely divisible by number B and if so then how many\n",
    "times it can be divisible."
   ]
  },
  {
   "cell_type": "code",
   "execution_count": null,
   "id": "fcf27dbd",
   "metadata": {},
   "outputs": [],
   "source": []
  },
  {
   "cell_type": "code",
   "execution_count": null,
   "id": "04bf4396",
   "metadata": {},
   "outputs": [],
   "source": [
    "#Q6. Create a list containing 25 int type data. Using for loop and if-else condition print if the element is\n",
    "divisible by 3 or not."
   ]
  },
  {
   "cell_type": "code",
   "execution_count": 42,
   "id": "9ae9f42d",
   "metadata": {},
   "outputs": [
    {
     "name": "stdout",
     "output_type": "stream",
     "text": [
      "the no which is divisible by 3 are:\n",
      "15\n",
      "18\n",
      "36\n",
      "42\n",
      "72\n",
      "24\n",
      "21\n",
      "24\n",
      "84\n",
      "57\n",
      "66\n",
      "63\n",
      "93\n",
      "the no which is not divisible by 3 are:\n"
     ]
    }
   ],
   "source": [
    "print(\"the no which is divisible by 3 are:\")\n",
    "b = [15,13,20,18,36,42,40,72,24,55,23,21,24,84,88,47,49,57,53,89,25,46,66,63,93]\n",
    "for i in b:\n",
    "    if i % 3 == 0:\n",
    "        print(i)\n",
    "else: \n",
    "    print(\"the no which is not divisible by 3 are:\")\n",
    "    i in b;\n",
    "    if i % 3 != 0:\n",
    "        print(i)\n",
    "        "
   ]
  },
  {
   "cell_type": "code",
   "execution_count": null,
   "id": "d064390a",
   "metadata": {},
   "outputs": [],
   "source": [
    "#Q7. What do you understand about mutable and immutable data types? Give examples for both showing\n",
    "this property."
   ]
  },
  {
   "cell_type": "code",
   "execution_count": 43,
   "id": "1aed14eb",
   "metadata": {},
   "outputs": [],
   "source": [
    "# mutable object =it is an object whose state can be change after it is created . like = list\n",
    "c = [1,21]\n"
   ]
  },
  {
   "cell_type": "code",
   "execution_count": 45,
   "id": "aa636c8c",
   "metadata": {},
   "outputs": [
    {
     "data": {
      "text/plain": [
       "[1, 21]"
      ]
     },
     "execution_count": 45,
     "metadata": {},
     "output_type": "execute_result"
    }
   ],
   "source": [
    "c"
   ]
  },
  {
   "cell_type": "code",
   "execution_count": 46,
   "id": "410eb6e0",
   "metadata": {},
   "outputs": [],
   "source": [
    "# change 21 as 2100\n",
    "c[1]=2100"
   ]
  },
  {
   "cell_type": "code",
   "execution_count": 48,
   "id": "9c81e39c",
   "metadata": {},
   "outputs": [
    {
     "data": {
      "text/plain": [
       "[1, 2100]"
      ]
     },
     "execution_count": 48,
     "metadata": {},
     "output_type": "execute_result"
    }
   ],
   "source": [
    "c"
   ]
  },
  {
   "cell_type": "code",
   "execution_count": 50,
   "id": "6e5a2482",
   "metadata": {},
   "outputs": [],
   "source": [
    "# immutable object = it is an object whose state cant be changed after its creation .\n",
    "d = ['hello', 'captain']"
   ]
  },
  {
   "cell_type": "code",
   "execution_count": 51,
   "id": "8b3c796f",
   "metadata": {},
   "outputs": [
    {
     "data": {
      "text/plain": [
       "['hello', 'world']"
      ]
     },
     "execution_count": 51,
     "metadata": {},
     "output_type": "execute_result"
    }
   ],
   "source": [
    "d"
   ]
  },
  {
   "cell_type": "code",
   "execution_count": 52,
   "id": "29af10c4",
   "metadata": {},
   "outputs": [
    {
     "ename": "NameError",
     "evalue": "name 'bye' is not defined",
     "output_type": "error",
     "traceback": [
      "\u001b[1;31m---------------------------------------------------------------------------\u001b[0m",
      "\u001b[1;31mNameError\u001b[0m                                 Traceback (most recent call last)",
      "Cell \u001b[1;32mIn[52], line 2\u001b[0m\n\u001b[0;32m      1\u001b[0m \u001b[38;5;66;03m#change hello as bye\u001b[39;00m\n\u001b[1;32m----> 2\u001b[0m d[\u001b[38;5;241m0\u001b[39m]\u001b[38;5;241m=\u001b[39m bye\n",
      "\u001b[1;31mNameError\u001b[0m: name 'bye' is not defined"
     ]
    }
   ],
   "source": [
    "#change hello as bye\n",
    "d[0]= bye"
   ]
  },
  {
   "cell_type": "code",
   "execution_count": null,
   "id": "6c10a498",
   "metadata": {},
   "outputs": [],
   "source": []
  },
  {
   "cell_type": "code",
   "execution_count": null,
   "id": "5a7bd1ea",
   "metadata": {},
   "outputs": [],
   "source": []
  },
  {
   "cell_type": "code",
   "execution_count": null,
   "id": "bb6eff2e",
   "metadata": {},
   "outputs": [],
   "source": []
  },
  {
   "cell_type": "code",
   "execution_count": null,
   "id": "dc979ae0",
   "metadata": {},
   "outputs": [],
   "source": []
  },
  {
   "cell_type": "code",
   "execution_count": null,
   "id": "5f7fa17e",
   "metadata": {},
   "outputs": [],
   "source": []
  }
 ],
 "metadata": {
  "kernelspec": {
   "display_name": "Python 3 (ipykernel)",
   "language": "python",
   "name": "python3"
  },
  "language_info": {
   "codemirror_mode": {
    "name": "ipython",
    "version": 3
   },
   "file_extension": ".py",
   "mimetype": "text/x-python",
   "name": "python",
   "nbconvert_exporter": "python",
   "pygments_lexer": "ipython3",
   "version": "3.11.3"
  }
 },
 "nbformat": 4,
 "nbformat_minor": 5
}
